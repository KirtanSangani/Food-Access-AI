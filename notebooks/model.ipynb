{
 "cells": [
  {
   "cell_type": "code",
   "execution_count": null,
   "id": "7e643b2a-d292-4bd7-b810-21f92479264e",
   "metadata": {},
   "outputs": [],
   "source": [
    "import numpy as np\n",
    "import pandas as pd\n",
    "import matplotlib.pyplot as plt\n",
    "import seaborn as sns\n",
    "from sklearn.model_selection import train_test_split, cross_val_score\n",
    "from sklearn.metrics import accuracy_score, classification_report, confusion_matrix, precision_recall_curve\n",
    "from sklearn.ensemble import RandomForestRegressor\n",
    "from sklearn.linear_model import LogisticRegression\n",
    "from sklearn.ensemble import RandomForestClassifier\n",
    "from sklearn.model_selection import cross_val_score\n",
    "from sklearn.model_selection import RandomizedSearchCV\n",
    "from sklearn.svm import SVC\n",
    "from scipy.stats import uniform, randint\n",
    "from imblearn.over_sampling import SMOTE\n",
    "import warnings\n",
    "warnings.filterwarnings('ignore')\n",
    "\n",
    "#Import CSV File\n",
    "df = pd.read_csv(r'C:\\Users\\kirta\\OneDrive\\Desktop\\Projects\\Food-Access-AI\\Data\\FoodAccessResearchAtlasData2019.xlsx - Food Access Research Atlas.csv')\n",
    "df = df.dropna()"
   ]
  },
  {
   "cell_type": "code",
   "execution_count": null,
   "id": "19a49e9b",
   "metadata": {},
   "outputs": [],
   "source": [
    "#Assign the attributes to the X and y values\n",
    "X = df[['Urban','PovertyRate','MedianFamilyIncome','lapophalf','lapophalfshare','lalowihalf','lalowihalfshare','lakidshalfshare','laseniorshalf','laseniorshalfshare','lawhitehalfshare','lahunvhalfshare','lasnaphalf','lasnaphalfshare']]\n",
    "y = df['LILATracts_1And10']\n",
    "\n",
    "#Create your Test and Train sets\n",
    "X_train, X_test, y_train, y_test = train_test_split(X, y, test_size = 0.2, random_state= 42, shuffle=True)"
   ]
  },
  {
   "cell_type": "code",
   "execution_count": null,
   "id": "efe5bc4a",
   "metadata": {},
   "outputs": [],
   "source": [
    "#Doing a RandomForestClassifer to get better precision and recall\n",
    "clf = RandomForestClassifier(class_weight='balanced')\n",
    "clf.fit(X_train, y_train)\n",
    "\n",
    "#Predict outcome from test\n",
    "y_pred = clf.predict(X_test)\n",
    "\n",
    "print(\"Accuracy: \\n\", accuracy_score(y_test,y_pred))\n",
    "print(\"Confusion Matrix: \\n\", confusion_matrix(y_test,y_pred))\n",
    "print(\"Classification Report: \\n\", classification_report(y_test, y_pred))\n",
    "\n",
    "scores = cross_val_score(clf, X, y, cv=5)\n",
    "print(scores.mean())"
   ]
  },
  {
   "cell_type": "code",
   "execution_count": null,
   "id": "b68a17ba",
   "metadata": {},
   "outputs": [],
   "source": [
    "#Using RandomizedSearchCV to find the best hyperparameters to adjust for LogisticRegression\n",
    "param_dist = {\n",
    "   'n_estimators': [10, 20, 30, 40],\n",
    "    'max_depth': [None, 5, 10, 15, 20],\n",
    "    'min_samples_split': [2, 5, 10],\n",
    "    'min_samples_leaf': [1, 2, 4],\n",
    "    'max_features': ['auto', 'sqrt', 'log2'],\n",
    "    'bootstrap': [True, False],\n",
    "    'class_weight': [None, 'balanced', 'balanced_subsample']\n",
    "}\n",
    "\n",
    "random_search = RandomizedSearchCV(estimator=clf, param_distributions=param_dist, n_iter=50, cv=5, scoring='accuracy', random_state=42)\n",
    "random_search.fit(X_train,y_train)\n",
    "\n",
    "print(\"Best Parameters: \", random_search.best_params_)\n",
    "print(\"Best Score: \", random_search.best_score_)"
   ]
  },
  {
   "cell_type": "code",
   "execution_count": null,
   "id": "698eed10",
   "metadata": {},
   "outputs": [],
   "source": [
    "#Doing a modified RandomoForestClassifier to boost precision and the f1 score\n",
    "modified_clf = RandomForestClassifier(n_estimators=30, min_samples_split=10, min_samples_leaf=4, max_features=\"sqrt\", max_depth= None, class_weight='balanced',bootstrap=True)\n",
    "modified_clf.fit(X_train, y_train)\n",
    "\n",
    "#Predict outcome from test\n",
    "y_pred = modified_clf.predict(X_test)\n",
    "\n",
    "print(\"Accuracy: \\n\", accuracy_score(y_test,y_pred))\n",
    "print(\"Confusion Matrix: \\n\", confusion_matrix(y_test,y_pred))\n",
    "print(\"Classification Report: \\n\", classification_report(y_test, y_pred))\n",
    "\n",
    "scores = cross_val_score(modified_clf, X, y, cv=5)\n",
    "print(scores.mean())"
   ]
  },
  {
   "cell_type": "code",
   "execution_count": null,
   "id": "95e7c4f7",
   "metadata": {},
   "outputs": [],
   "source": [
    "#Finding the optimal threshold to get a strong balance of precision and recall\n",
    "probs = modified_clf.predict_proba(X_test)[:,1]\n",
    "\n",
    "thresholds = np.arange(0.01,0.9,0.65)\n",
    "\n",
    "for threshold in thresholds:\n",
    "    preds = (probs >= threshold).astype(int)\n",
    "    print(f\"\\n---Threshold: {threshold:.2f}---\")\n",
    "    print(classification_report(y_test,preds,digits=3))\n",
    "    print(accuracy_score(y_test, preds))"
   ]
  },
  {
   "cell_type": "code",
   "execution_count": null,
   "id": "35cbdf67",
   "metadata": {},
   "outputs": [],
   "source": [
    "precision,recall,thresholds = precision_recall_curve(y_test,probs)\n",
    "\n",
    "plt.figure(figsize=(10,8))\n",
    "plt.plot(thresholds, precision[:-1], label = \"Precision\")\n",
    "plt.plot(thresholds, recall[:-1], label = \"Recall\")\n",
    "plt.xlabel(\"Threshold\")\n",
    "plt.ylabel(\"Score\")\n",
    "plt.title(\"Precision vs Recall at Different Thresholds\")\n",
    "plt.legend()\n",
    "plt.grid()\n",
    "plt.show()"
   ]
  },
  {
   "cell_type": "code",
   "execution_count": null,
   "id": "baf8a069",
   "metadata": {},
   "outputs": [],
   "source": [
    "final_preds = (probs >= 0.37).astype(int)\n",
    "print(classification_report(y_test, final_preds,digits=3))\n",
    "print(accuracy_score(y_test, final_preds))\n",
    "print(confusion_matrix(y_test,final_preds))"
   ]
  }
 ],
 "metadata": {
  "kernelspec": {
   "display_name": "Python 3 (ipykernel)",
   "language": "python",
   "name": "python3"
  },
  "language_info": {
   "codemirror_mode": {
    "name": "ipython",
    "version": 3
   },
   "file_extension": ".py",
   "mimetype": "text/x-python",
   "name": "python",
   "nbconvert_exporter": "python",
   "pygments_lexer": "ipython3",
   "version": "3.13.4"
  }
 },
 "nbformat": 4,
 "nbformat_minor": 5
}
